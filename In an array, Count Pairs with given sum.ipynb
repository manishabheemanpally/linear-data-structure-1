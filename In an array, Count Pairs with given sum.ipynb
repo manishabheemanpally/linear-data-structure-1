{
  "metadata": {
    "kernelspec": {
      "name": "python",
      "display_name": "Python (Pyodide)",
      "language": "python"
    },
    "language_info": {
      "codemirror_mode": {
        "name": "python",
        "version": 3
      },
      "file_extension": ".py",
      "mimetype": "text/x-python",
      "name": "python",
      "nbconvert_exporter": "python",
      "pygments_lexer": "ipython3",
      "version": "3.8"
    }
  },
  "nbformat_minor": 4,
  "nbformat": 4,
  "cells": [
    {
      "cell_type": "code",
      "source": "def count_pairs_with_sum(arr, target_sum):\n    count = 0\n    num_dict = {}\n\n    for num in arr:\n        complement = target_sum - num\n\n        if complement in num_dict:\n            count += num_dict[complement]\n\n        if num in num_dict:\n            num_dict[num] += 1\n        else:\n            num_dict[num] = 1\n\n    return count\n\narr = [1, 5, 7, -1, 5]\ntarget_sum = 6\n\npair_count = count_pairs_with_sum(arr, target_sum)\nprint(f\"Number of pairs with sum {target_sum}: {pair_count}\")",
      "metadata": {
        "trusted": true
      },
      "outputs": [
        {
          "name": "stdout",
          "text": "Number of pairs with sum 6: 3\n",
          "output_type": "stream"
        }
      ],
      "execution_count": 1
    },
    {
      "cell_type": "code",
      "source": "",
      "metadata": {
        "trusted": true
      },
      "outputs": [],
      "execution_count": null
    }
  ]
}