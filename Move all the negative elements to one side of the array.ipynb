{
  "metadata": {
    "kernelspec": {
      "name": "python",
      "display_name": "Python (Pyodide)",
      "language": "python"
    },
    "language_info": {
      "codemirror_mode": {
        "name": "python",
        "version": 3
      },
      "file_extension": ".py",
      "mimetype": "text/x-python",
      "name": "python",
      "nbconvert_exporter": "python",
      "pygments_lexer": "ipython3",
      "version": "3.8"
    }
  },
  "nbformat_minor": 4,
  "nbformat": 4,
  "cells": [
    {
      "cell_type": "code",
      "source": "def move_negative_elements(arr):\n    n = len(arr)\n    neg_idx = 0\n\n    for i in range(n):\n        if arr[i] < 0:\n            arr[i], arr[neg_idx] = arr[neg_idx], arr[i]\n            neg_idx += 1\n\n    return arr\n\narr = [4, -3, 2, -5, -1, 0, -2, 6, -7]\nresult = move_negative_elements(arr)\nprint(\"Array with negative elements moved to one side:\", result)",
      "metadata": {
        "trusted": true
      },
      "outputs": [
        {
          "name": "stdout",
          "text": "Array with negative elements moved to one side: [-3, -5, -1, -2, -7, 0, 4, 6, 2]\n",
          "output_type": "stream"
        }
      ],
      "execution_count": 1
    },
    {
      "cell_type": "code",
      "source": "",
      "metadata": {
        "trusted": true
      },
      "outputs": [],
      "execution_count": null
    }
  ]
}