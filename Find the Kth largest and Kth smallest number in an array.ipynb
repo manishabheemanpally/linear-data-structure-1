{
  "metadata": {
    "kernelspec": {
      "name": "python",
      "display_name": "Python (Pyodide)",
      "language": "python"
    },
    "language_info": {
      "codemirror_mode": {
        "name": "python",
        "version": 3
      },
      "file_extension": ".py",
      "mimetype": "text/x-python",
      "name": "python",
      "nbconvert_exporter": "python",
      "pygments_lexer": "ipython3",
      "version": "3.8"
    }
  },
  "nbformat_minor": 4,
  "nbformat": 4,
  "cells": [
    {
      "cell_type": "code",
      "source": "def find_kth_largest_smallest(arr, k):\n    sorted_arr = sorted(arr)\n    kth_largest = sorted_arr[-k]\n    kth_smallest = sorted_arr[k-1]\n    return kth_largest, kth_smallest\n\narr = [9, 4, 7, 1, 5, 2, 8, 3, 6]\nk = 3\n\nkth_largest, kth_smallest = find_kth_largest_smallest(arr, k)\nprint(f\"Kth largest number: {kth_largest}\")\nprint(f\"Kth smallest number: {kth_smallest}\")",
      "metadata": {
        "trusted": true
      },
      "outputs": [
        {
          "name": "stdout",
          "text": "Kth largest number: 7\nKth smallest number: 3\n",
          "output_type": "stream"
        }
      ],
      "execution_count": 1
    },
    {
      "cell_type": "code",
      "source": "",
      "metadata": {
        "trusted": true
      },
      "outputs": [],
      "execution_count": null
    }
  ]
}