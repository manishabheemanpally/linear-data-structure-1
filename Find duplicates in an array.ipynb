{
  "metadata": {
    "kernelspec": {
      "name": "python",
      "display_name": "Python (Pyodide)",
      "language": "python"
    },
    "language_info": {
      "codemirror_mode": {
        "name": "python",
        "version": 3
      },
      "file_extension": ".py",
      "mimetype": "text/x-python",
      "name": "python",
      "nbconvert_exporter": "python",
      "pygments_lexer": "ipython3",
      "version": "3.8"
    }
  },
  "nbformat_minor": 4,
  "nbformat": 4,
  "cells": [
    {
      "cell_type": "code",
      "source": "def find_duplicates(arr):\n    duplicates = []\n    num_dict = {}\n\n    for num in arr:\n        if num in num_dict:\n            duplicates.append(num)\n        else:\n            num_dict[num] = 1\n\n    return duplicates\n\narr = [1, 2, 3, 2, 4, 5, 3, 6]\nduplicate_nums = find_duplicates(arr)\nprint(\"Duplicate numbers:\", duplicate_nums)",
      "metadata": {
        "trusted": true
      },
      "outputs": [
        {
          "name": "stdout",
          "text": "Duplicate numbers: [2, 3]\n",
          "output_type": "stream"
        }
      ],
      "execution_count": 1
    },
    {
      "cell_type": "code",
      "source": "",
      "metadata": {
        "trusted": true
      },
      "outputs": [],
      "execution_count": null
    }
  ]
}