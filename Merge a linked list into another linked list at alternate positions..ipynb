{
  "metadata": {
    "kernelspec": {
      "name": "python",
      "display_name": "Python (Pyodide)",
      "language": "python"
    },
    "language_info": {
      "codemirror_mode": {
        "name": "python",
        "version": 3
      },
      "file_extension": ".py",
      "mimetype": "text/x-python",
      "name": "python",
      "nbconvert_exporter": "python",
      "pygments_lexer": "ipython3",
      "version": "3.8"
    }
  },
  "nbformat_minor": 4,
  "nbformat": 4,
  "cells": [
    {
      "cell_type": "code",
      "source": "class Node:\n    def __init__(self, data=None):\n        self.data = data\n        self.next = None\n\n\ndef merge_alternate(head1, head2):\n    if not head1:\n        return head2\n    if not head2:\n        return head1\n\n    current1 = head1\n    current2 = head2\n    while current1 and current2:\n        next1 = current1.next\n        next2 = current2.next\n\n        current2.next = next1\n        current1.next = current2\n\n        current1 = next1\n        current2 = next2\n\n    return head1\n\n\ndef print_linked_list(head):\n    current = head\n    while current:\n        print(current.data, end=\" -> \")\n        current = current.next\n    print(\"None\")\n\n\nhead1 = Node(1)\nhead1.next = Node(2)\nhead1.next.next = Node(3)\n\nhead2 = Node(4)\nhead2.next = Node(5)\nhead2.next.next = Node(6)\n\nprint(\"First Linked List:\")\nprint_linked_list(head1)\n\nprint(\"Second Linked List:\")\nprint_linked_list(head2)\n\nhead1 = merge_alternate(head1, head2)\n\nprint(\"Merged Linked List:\")\nprint_linked_list(head1)",
      "metadata": {
        "trusted": true
      },
      "outputs": [
        {
          "name": "stdout",
          "text": "First Linked List:\n1 -> 2 -> 3 -> None\nSecond Linked List:\n4 -> 5 -> 6 -> None\nMerged Linked List:\n1 -> 4 -> 2 -> 5 -> 3 -> 6 -> None\n",
          "output_type": "stream"
        }
      ],
      "execution_count": 1
    },
    {
      "cell_type": "code",
      "source": "",
      "metadata": {
        "trusted": true
      },
      "outputs": [],
      "execution_count": null
    }
  ]
}