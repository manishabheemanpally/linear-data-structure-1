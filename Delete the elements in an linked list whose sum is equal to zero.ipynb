{
  "metadata": {
    "kernelspec": {
      "name": "python",
      "display_name": "Python (Pyodide)",
      "language": "python"
    },
    "language_info": {
      "codemirror_mode": {
        "name": "python",
        "version": 3
      },
      "file_extension": ".py",
      "mimetype": "text/x-python",
      "name": "python",
      "nbconvert_exporter": "python",
      "pygments_lexer": "ipython3",
      "version": "3.8"
    }
  },
  "nbformat_minor": 4,
  "nbformat": 4,
  "cells": [
    {
      "cell_type": "code",
      "source": "\nclass Node:\n    def __init__(self, data=None):\n        self.data = data\n        self.next = None\n\n\ndef delete_zero_sum_nodes(head):\n    if not head:\n        return head\n\n    dummy = Node(0)\n    dummy.next = head\n    current = dummy\n\n    running_sum = 0\n    sum_dict = {}\n\n    while current:\n        running_sum += current.data\n        if running_sum in sum_dict:\n            prev = sum_dict[running_sum]\n            prev.next = current.next\n        else:\n            sum_dict[running_sum] = current\n        current = current.next\n\n    return dummy.next\n\nhead = Node(3)\nhead.next = Node(2)\nhead.next.next = Node(-1)\nhead.next.next.next = Node(1)\nhead.next.next.next.next = Node(-2)\nhead.next.next.next.next.next = Node(4)\n\nprint(\"Original Linked List:\")\ncurrent = head\nwhile current:\n    print(current.data, end=\" -> \")\n    current = current.next\nprint(\"None\")\n\nhead = delete_zero_sum_nodes(head)\n\nprint(\"Modified Linked List:\")\ncurrent = head\nwhile current:\n    print(current.data, end=\" -> \")\n    current = current.next\nprint(\"None\")",
      "metadata": {
        "trusted": true,
        "scrolled": true,
        "tags": [],
        "editable": true,
        "slideshow": {
          "slide_type": ""
        }
      },
      "outputs": [
        {
          "name": "stdout",
          "text": "Original Linked List:\n3 -> 2 -> -1 -> 1 -> -2 -> 4 -> None\nModified Linked List:\n3 -> 4 -> None\n",
          "output_type": "stream"
        }
      ],
      "execution_count": 1
    },
    {
      "cell_type": "code",
      "source": "",
      "metadata": {
        "trusted": true
      },
      "outputs": [],
      "execution_count": null
    }
  ]
}