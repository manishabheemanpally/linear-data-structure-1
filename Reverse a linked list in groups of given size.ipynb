{
  "metadata": {
    "kernelspec": {
      "name": "python",
      "display_name": "Python (Pyodide)",
      "language": "python"
    },
    "language_info": {
      "codemirror_mode": {
        "name": "python",
        "version": 3
      },
      "file_extension": ".py",
      "mimetype": "text/x-python",
      "name": "python",
      "nbconvert_exporter": "python",
      "pygments_lexer": "ipython3",
      "version": "3.8"
    }
  },
  "nbformat_minor": 4,
  "nbformat": 4,
  "cells": [
    {
      "cell_type": "code",
      "source": "class Node:\n    def __init__(self, data=None):\n        self.data = data\n        self.next = None\n\n\ndef reverse_in_groups(head, k):\n    if not head or k <= 1:\n        return head\n\n    current = head\n    prev = None\n    count = 0\n\n    while current and count < k:\n        next_node = current.next\n        current.next = prev\n        prev = current\n        current = next_node\n        count += 1\n    if current:\n        head.next = reverse_in_groups(current, k)\n\n    return prev\n\n\ndef print_linked_list(head):\n    current = head\n    while current:\n        print(current.data, end=\" -> \")\n        current = current.next\n    print(\"None\")\n\nhead = Node(1)\nhead.next = Node(2)\nhead.next.next = Node(3)\nhead.next.next.next = Node(4)\nhead.next.next.next.next = Node(5)\nhead.next.next.next.next.next = Node(6)\nhead.next.next.next.next.next.next = Node(7)\nhead.next.next.next.next.next.next.next = Node(8)\n\nprint(\"Original Linked List:\")\nprint_linked_list(head)\n\nk = 3  \n\nhead = reverse_in_groups(head, k)\n\nprint(\"Modified Linked List:\")\nprint_linked_list(head)",
      "metadata": {
        "trusted": true
      },
      "outputs": [
        {
          "name": "stdout",
          "text": "Original Linked List:\n1 -> 2 -> 3 -> 4 -> 5 -> 6 -> 7 -> 8 -> None\nModified Linked List:\n3 -> 2 -> 1 -> 6 -> 5 -> 4 -> 8 -> 7 -> None\n",
          "output_type": "stream"
        }
      ],
      "execution_count": 1
    },
    {
      "cell_type": "code",
      "source": "",
      "metadata": {
        "trusted": true
      },
      "outputs": [],
      "execution_count": null
    }
  ]
}