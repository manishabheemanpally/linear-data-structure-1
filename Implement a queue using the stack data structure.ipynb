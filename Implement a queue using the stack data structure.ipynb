{
  "metadata": {
    "kernelspec": {
      "name": "python",
      "display_name": "Python (Pyodide)",
      "language": "python"
    },
    "language_info": {
      "codemirror_mode": {
        "name": "python",
        "version": 3
      },
      "file_extension": ".py",
      "mimetype": "text/x-python",
      "name": "python",
      "nbconvert_exporter": "python",
      "pygments_lexer": "ipython3",
      "version": "3.8"
    }
  },
  "nbformat_minor": 4,
  "nbformat": 4,
  "cells": [
    {
      "cell_type": "code",
      "source": "class Queue:\n    def __init__(self):\n        self.enqueue_stack = []\n        self.dequeue_stack = []\n\n    def enqueue(self, item):\n        self.enqueue_stack.append(item)\n\n    def dequeue(self):\n        if not self.dequeue_stack:\n            if not self.enqueue_stack:\n                raise IndexError(\"Queue is empty\")\n                \n            while self.enqueue_stack:\n                self.dequeue_stack.append(self.enqueue_stack.pop())\n        return self.dequeue_stack.pop()\n\n    def is_empty(self):\n        return not self.enqueue_stack and not self.dequeue_stack\n\nqueue = Queue()\n\nqueue.enqueue(1)\nqueue.enqueue(2)\nqueue.enqueue(3)\n\nprint(queue.dequeue())  \nprint(queue.dequeue())  \n\nqueue.enqueue(4)\nqueue.enqueue(5)\n\nprint(queue.dequeue())  \nprint(queue.dequeue())  \nprint(queue.dequeue())  \n\nprint(queue.is_empty()) ",
      "metadata": {
        "trusted": true
      },
      "outputs": [
        {
          "name": "stdout",
          "text": "1\n2\n3\n4\n5\nTrue\n",
          "output_type": "stream"
        }
      ],
      "execution_count": 1
    },
    {
      "cell_type": "code",
      "source": "",
      "metadata": {
        "trusted": true
      },
      "outputs": [],
      "execution_count": null
    }
  ]
}