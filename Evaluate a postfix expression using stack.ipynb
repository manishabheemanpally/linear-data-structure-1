{
  "metadata": {
    "kernelspec": {
      "name": "python",
      "display_name": "Python (Pyodide)",
      "language": "python"
    },
    "language_info": {
      "codemirror_mode": {
        "name": "python",
        "version": 3
      },
      "file_extension": ".py",
      "mimetype": "text/x-python",
      "name": "python",
      "nbconvert_exporter": "python",
      "pygments_lexer": "ipython3",
      "version": "3.8"
    }
  },
  "nbformat_minor": 4,
  "nbformat": 4,
  "cells": [
    {
      "cell_type": "code",
      "source": "class Stack:\n    def __init__(self):\n        self.stack = []\n\n    def push(self, item):\n        self.stack.append(item)\n\n    def pop(self):\n        if not self.is_empty():\n            return self.stack.pop()\n        return None\n\n    def is_empty(self):\n        return len(self.stack) == 0\n\n\ndef evaluate_postfix(expression):\n    stack = Stack()\n\n    operators = set(['+', '-', '*', '/'])\n\n    for char in expression:\n        if char not in operators:\n            stack.push(int(char))\n        else:\n            operand2 = stack.pop()\n            operand1 = stack.pop()\n\n            if operand1 is None or operand2 is None:\n                raise ValueError(\"Invalid postfix expression\")\n\n            if char == '+':\n                result = operand1 + operand2\n            elif char == '-':\n                result = operand1 - operand2\n            elif char == '*':\n                result = operand1 * operand2\n            elif char == '/':\n                result = operand1 / operand2\n            stack.push(result)\n\n    final_result = stack.pop()\n\n    if stack.is_empty() and final_result is not None:\n        return final_result\n    else:\n        raise ValueError(\"Invalid postfix expression\")\n\npostfix_exp = \"523*+\"\nresult = evaluate_postfix(postfix_exp)\nprint(\"Result:\", result)",
      "metadata": {
        "trusted": true
      },
      "outputs": [
        {
          "name": "stdout",
          "text": "Result: 11\n",
          "output_type": "stream"
        }
      ],
      "execution_count": 1
    },
    {
      "cell_type": "code",
      "source": "",
      "metadata": {
        "trusted": true
      },
      "outputs": [],
      "execution_count": null
    }
  ]
}